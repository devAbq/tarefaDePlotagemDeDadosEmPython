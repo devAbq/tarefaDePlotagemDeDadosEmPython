{
 "cells": [
  {
   "cell_type": "markdown",
   "metadata": {},
   "source": [
    "# Figura de classe 1: construção de gráfico a partir dos dados em um arquivo txt"
   ]
  },
  {
   "cell_type": "code",
   "execution_count": null,
   "metadata": {},
   "outputs": [],
   "source": [
    "#import math; graphs and os acessbility functions\n",
    "import matplotlib.pyplot as plt #type: ignore\n",
    "from filePathing import pathToDirForThisDevice\n",
    "#file pathing\n",
    "pathToDataReads = pathToDirForThisDevice\n",
    "\n",
    "#open single file and read and associate to array\n",
    "with open(pathToDataReads+\"/50_nmDC_0.txt\", \"r\") as file:\n",
    "  lineReadings = file.readlines()\n",
    "  arrayOfReads = []\n",
    "  for line in lineReadings:\n",
    "    singleLine = line.split() \n",
    "    associateLineFromFileWithArrayRow = [float(elem) for elem in singleLine]\n",
    "    arrayOfReads.append(associateLineFromFileWithArrayRow)\n",
    "    \n",
    "#build axes from array\n",
    "xAxisReadings = [row[0] for row in arrayOfReads]\n",
    "yAxisReadings = [row[1] for row in arrayOfReads]\n",
    "\n",
    "#symbol nonsense\n",
    "\n",
    "#plot graph\n",
    "plt.plot(xAxisReadings, yAxisReadings, \"-o\")\n",
    "plt.xlabel(\"H (Oe)\")\n",
    "plt.xlim(-30, 30)\n",
    "plt.ylabel(\"M/Ms\")\n",
    "plt.title(\"Magnetização (arb. unit) por Campo Externo (Oe)\")\n",
    "plt.legend([\"⊥\"], loc = \"lower right\", title=\"Orientação\")\n",
    "plt.grid()"
   ]
  },
  {
   "cell_type": "markdown",
   "metadata": {},
   "source": [
    "# Figura de classe 2: interposição de dois datasets em um único gráfico"
   ]
  },
  {
   "cell_type": "code",
   "execution_count": null,
   "metadata": {},
   "outputs": [],
   "source": [
    "#import math; graphs and os acessbility functions\n",
    "import matplotlib.pyplot as plt #type: ignore\n",
    "from filePathing import pathToDirForThisDevice\n",
    "#file pathing\n",
    "pathToDataReads = pathToDirForThisDevice\n",
    "\n",
    "#open single file and read and associate to array\n",
    "with open(pathToDataReads+\"/50_nmDC_0.txt\", \"r\") as file:\n",
    "  lineReadings = file.readlines()\n",
    "  arrayOfReads = []\n",
    "  for line in lineReadings:\n",
    "    singleLine = line.split() \n",
    "    associateLineFromFileWithArrayRow = [float(elem) for elem in singleLine]\n",
    "    arrayOfReads.append(associateLineFromFileWithArrayRow)\n",
    "    \n",
    "#build axes from array\n",
    "xAxisReadings = [row[0] for row in arrayOfReads]\n",
    "yAxisReadings = [row[1] for row in arrayOfReads]\n",
    "\n",
    "#symbol nonsense\n",
    "\n",
    "#plot graph\n",
    "plt.plot(xAxisReadings, yAxisReadings, \"-o\")\n",
    "plt.xlabel(\"H (Oe)\")\n",
    "plt.xlim(-30, 30)\n",
    "plt.ylabel(\"M/Ms\")\n",
    "plt.title(\"Magnetização (arb. unit) por Campo Externo (Oe)\")\n",
    "plt.legend([\"⊥\"], loc = \"lower right\", title=\"Orientação\")\n",
    "plt.grid()"
   ]
  },
  {
   "cell_type": "markdown",
   "metadata": {},
   "source": [
    "# Calcular coefieciente"
   ]
  },
  {
   "cell_type": "code",
   "execution_count": null,
   "metadata": {},
   "outputs": [],
   "source": [
    "#import math; graphs and os acessbility functions\n",
    "import matplotlib.pyplot as plt #type: ignore\n",
    "#file pathing\n",
    "pathToDataReads = pathToDirForThisDevice\n",
    "\n",
    "#open single file and read and associate to array\n",
    "with open(pathToDataReads+\"/50_nmDC_0.txt\", \"r\") as file:\n",
    "  lineReadings = file.readlines()\n",
    "  arrayOfReads = []\n",
    "  for line in lineReadings:\n",
    "    singleLine = line.split() \n",
    "    associateLineFromFileWithArrayRow = [float(elem) for elem in singleLine]\n",
    "    arrayOfReads.append(associateLineFromFileWithArrayRow)\n",
    "    #coeficient shenanigans\n",
    "  lenOfArray = len(arrayOfReads)\n",
    "  magnet = float()\n",
    "  for row in arrayOfReads:\n",
    "    if (abs(row[1]) for row in arrayOfReads) < abs(magnet):\n",
    "      magnet = row[1]\n",
    "  print(magnet)\n",
    "#the nonsense above doesn't work\n",
    "    \n",
    "#build axes from array\n",
    "\n",
    "#symbol nonsense\n",
    "\n",
    "#plot graph\n",
    "k = \"\"\"\"\n",
    "plt.plot(xAxisReadings, yAxisReadings, \"-o\")\n",
    "plt.xlabel(\"H (Oe)\")\n",
    "plt.xlim(-30, 30)\n",
    "plt.ylabel(\"M/Ms\")\n",
    "plt.title(\"Magnetização (arb. unit) por Campo Externo (Oe)\")\n",
    "plt.legend([\"⊥\"], loc = \"lower right\", title=\"Orientação\")\n",
    "plt.grid()\n",
    "\"\"\""
   ]
  }
 ],
 "metadata": {
  "kernelspec": {
   "display_name": "Python 3",
   "language": "python",
   "name": "python3"
  },
  "language_info": {
   "codemirror_mode": {
    "name": "ipython",
    "version": 3
   },
   "file_extension": ".py",
   "mimetype": "text/x-python",
   "name": "python",
   "nbconvert_exporter": "python",
   "pygments_lexer": "ipython3",
   "version": "3.12.3"
  }
 },
 "nbformat": 4,
 "nbformat_minor": 2
}
